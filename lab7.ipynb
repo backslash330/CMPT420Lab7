{
 "cells": [
  {
   "cell_type": "code",
   "execution_count": 10,
   "metadata": {},
   "outputs": [],
   "source": [
    "# create a trapezoid rule function that returns a list Trapezoid Rule of f on the interval [a, b] sampled at the numbers in the list xvals. Note:\n",
    "# your code should check that xvals[0]=a and xvals[len(xvals)-1]=b and return an error if it does not."
   ]
  },
  {
   "cell_type": "code",
   "execution_count": 44,
   "metadata": {},
   "outputs": [
    {
     "name": "stdout",
     "output_type": "stream",
     "text": [
      "h(x) on the interval [1, 5] sampled at the endpoints: \n",
      "[2.23722937528910]\n",
      "--------------------------------------------------\n",
      "f (x) on the interval [1, e] sampled at x0 = 1, x1 = 1.5, x3 = 2, x4 = 2.5, x5 = e: \n",
      "[0.376616910635983, 0.279911342787219, 0.173509392763606, 0.0426202745384502]\n",
      "--------------------------------------------------\n",
      "g(x) on the interval [1, e] sampled at x0 = 1, x1 = 1.5, x3 = 2, x4 = 2.5, x5 = e: \n",
      "[6.86864825552958, 18.6709217390830, 50.7528272839302, 41.2623404405538]\n",
      "--------------------------------------------------\n"
     ]
    }
   ],
   "source": [
    "def TrapezoidRule(f, a, b, xvals):\n",
    "    # check that xvals[0]=a and xvals[len(xvals)-1]=b\n",
    "    if xvals[0] != a or xvals[len(xvals)-1] != b:\n",
    "        # return error\n",
    "        return \"Error: xvals[0] != a or xvals[len(xvals)-1] != b\"\n",
    "    # initialize sum\n",
    "    sum = 0\n",
    "    # return the list of trapezoid areas\n",
    "    list = [((xvals[i+1] - xvals[i]) * (f(xvals[i]) + f(xvals[i+1])) / 2) for i in range(len(xvals)-1)]\n",
    "    # convert each area to a decimal number\n",
    "    for i in range(len(list)):\n",
    "        list[i] = list[i].n()\n",
    "    # return list\n",
    "    return list\n",
    "        \n",
    "\n",
    "h(x) = sin(x) -1 + sqrt(x)\n",
    "f(X) = sin(x)/x\n",
    "g(x) = ((e)^x)^2\n",
    "interval1 = [1, 5]\n",
    "interval2 = [1, e]\n",
    "\n",
    "# Test cases:\n",
    "\n",
    "# h(x) on the interval [1, 5] sampled at the endpoints,\n",
    "print(\"h(x) on the interval [1, 5] sampled at the endpoints: \")\n",
    "print(TrapezoidRule(h, 1, 5, [1, 5]))\n",
    "print('-' * 50)\n",
    "\n",
    "# f (x) on the interval [1, e] sampled at x0 = 1, x1 = 1.5, x3 = 2, x4 = 2.5, x5 = e, and\n",
    "h(x) = sin(x)/x\n",
    "print(\"f (x) on the interval [1, e] sampled at x0 = 1, x1 = 1.5, x3 = 2, x4 = 2.5, x5 = e: \")\n",
    "print(TrapezoidRule(h, 1, e, [1, 1.5, 2, 2.5, e]))\n",
    "print('-' * 50)\n",
    "\n",
    "# g(x) on the interval [1, e] sampled at x0 = 1, x1 = 1.5, x3 = 2, x4 = 2.5, x5 = e.\n",
    "h(x) = ((e)^x)^2\n",
    "print(\"g(x) on the interval [1, e] sampled at x0 = 1, x1 = 1.5, x3 = 2, x4 = 2.5, x5 = e: \")\n",
    "print(TrapezoidRule(g, 1, e, [1, 1.5, 2, 2.5, e]))\n",
    "print('-' * 50)\n",
    "\n",
    "\n"
   ]
  },
  {
   "cell_type": "code",
   "execution_count": 43,
   "metadata": {},
   "outputs": [
    {
     "name": "stdout",
     "output_type": "stream",
     "text": [
      "h(x) on the interval [1, 5] sampled at the endpoints: \n",
      "2.23722937528910\n",
      "--------------------------------------------------\n",
      "f (x) on the interval [1, e] sampled at x0 = 1, x1 = 1.5, x3 = 2, x4 = 2.5, x5 = e: \n",
      "0.872657920725258\n",
      "--------------------------------------------------\n",
      "g(x) on the interval [1, e] sampled at x0 = 1, x1 = 1.5, x3 = 2, x4 = 2.5, x5 = e: \n",
      "117.554737719097\n",
      "--------------------------------------------------\n"
     ]
    }
   ],
   "source": [
    "def TrapezoidRule(f, a, b, xvals):\n",
    "    # check that xvals[0]=a and xvals[len(xvals)-1]=b\n",
    "    if xvals[0] != a or xvals[len(xvals)-1] != b:\n",
    "        # return error\n",
    "        return \"Error: xvals[0] != a or xvals[len(xvals)-1] != b\"\n",
    "    # initialize sum\n",
    "    sum = 0\n",
    "    # loop over xvals\n",
    "    for i in range(len(xvals)-1):\n",
    "        # add trapezoid area to sum as a decimal number\n",
    "        #sum += ((xvals[i+1].n() - xvals[i].n()) * (f(xvals[i].n()) + f(xvals[i+1].n())) / 2)\n",
    "\n",
    "        # do the same but without the .n() function\n",
    "        sum += ((xvals[i+1] - xvals[i]) * (f(xvals[i]) + f(xvals[i+1])) / 2)\n",
    "        sum\n",
    "    # convert sum to a decimal number\n",
    "    # return sum\n",
    "    return sum.n()\n",
    "\n",
    "h(x) = sin(x) -1 + sqrt(x)\n",
    "f(X) = sin(x)/x\n",
    "g(x) = ((e)^x)^2\n",
    "interval1 = [1, 5]\n",
    "interval2 = [1, e]\n",
    "\n",
    "# Test cases:\n",
    "\n",
    "# h(x) on the interval [1, 5] sampled at the endpoints,\n",
    "print(\"h(x) on the interval [1, 5] sampled at the endpoints: \")\n",
    "print(TrapezoidRule(h, 1, 5, [1, 5]))\n",
    "print('-' * 50)\n",
    "\n",
    "# f (x) on the interval [1, e] sampled at x0 = 1, x1 = 1.5, x3 = 2, x4 = 2.5, x5 = e, and\n",
    "h(x) = sin(x)/x\n",
    "print(\"f (x) on the interval [1, e] sampled at x0 = 1, x1 = 1.5, x3 = 2, x4 = 2.5, x5 = e: \")\n",
    "print(TrapezoidRule(h, 1, e, [1, 1.5, 2, 2.5, e]))\n",
    "print('-' * 50)\n",
    "\n",
    "# g(x) on the interval [1, e] sampled at x0 = 1, x1 = 1.5, x3 = 2, x4 = 2.5, x5 = e.\n",
    "h(x) = ((e)^x)^2\n",
    "print(\"g(x) on the interval [1, e] sampled at x0 = 1, x1 = 1.5, x3 = 2, x4 = 2.5, x5 = e: \")\n",
    "print(TrapezoidRule(g, 1, e, [1, 1.5, 2, 2.5, e]))\n",
    "print('-' * 50)\n",
    "\n",
    "\n"
   ]
  }
 ],
 "metadata": {
  "kernelspec": {
   "display_name": "SageMath 9.5",
   "language": "sage",
   "name": "sagemath"
  },
  "language_info": {
   "codemirror_mode": {
    "name": "ipython",
    "version": 3
   },
   "file_extension": ".py",
   "mimetype": "text/x-python",
   "name": "python",
   "nbconvert_exporter": "python",
   "pygments_lexer": "ipython3",
   "version": "3.9.9"
  },
  "orig_nbformat": 4
 },
 "nbformat": 4,
 "nbformat_minor": 2
}
